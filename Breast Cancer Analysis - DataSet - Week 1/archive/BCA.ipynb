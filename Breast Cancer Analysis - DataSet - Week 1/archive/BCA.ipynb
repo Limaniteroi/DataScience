{
 "cells": [
  {
   "cell_type": "markdown",
   "id": "409d4bda",
   "metadata": {},
   "source": [
    "<h2><b>Breast Cancer dataset</b></h2>\n",
    "\n",
    "This Jupyter Notebook was created based on a initial study's cicle of Data Science\n",
    "and has as the main objective to create a machine learning model to predict the diagnosis of breast cancer with 'Breast Cancer' dataset using Python Pandas and Scikit-Learn. "
   ]
  },
  {
   "cell_type": "code",
   "execution_count": 121,
   "id": "eabc5e12",
   "metadata": {},
   "outputs": [],
   "source": [
    "#Importing the dataset\n",
    "import pandas as pd\n",
    "\n",
    "# Reading the archive\n",
    "data_cancer = pd.read_csv(\"Breast_cancer_dataset.csv\")\n",
    "\n",
    "# Translating the column diagonsis to numbers \n",
    "diagnosis_map = {'M': 1, 'B': 0}\n",
    "data_cancer['diagnosis'] = data_cancer['diagnosis'].map(diagnosis_map)\n",
    "\n",
    "# Removing the columns with NaN values\n",
    "dc = data_cancer.dropna(axis=1)\n"
   ]
  },
  {
   "cell_type": "code",
   "execution_count": 122,
   "id": "844bdf2d",
   "metadata": {},
   "outputs": [],
   "source": [
    "# Using the Scikit-Learn\n",
    "from sklearn.neighbors import KNeighborsClassifier\n",
    "from sklearn.preprocessing import StandardScaler\n",
    "from sklearn.pipeline import Pipeline\n",
    "from sklearn.model_selection import GridSearchCV"
   ]
  },
  {
   "cell_type": "code",
   "execution_count": 123,
   "id": "379fcb06",
   "metadata": {},
   "outputs": [],
   "source": [
    "# Separating the X data and y target\n",
    "X = dc.drop(['id','diagnosis'], axis=1)\n",
    "y = dc['diagnosis']\n",
    "\n",
    "# Using the Kneighbors model\n",
    "pipe = Pipeline([(\"scale\", StandardScaler()),(\"model\", KNeighborsClassifier(n_neighbors=1))])"
   ]
  },
  {
   "cell_type": "code",
   "execution_count": 124,
   "id": "d08ed687",
   "metadata": {},
   "outputs": [
    {
     "name": "stdout",
     "output_type": "stream",
     "text": [
      "The best precision is: 1.0000\n"
     ]
    }
   ],
   "source": [
    "from sklearn.metrics import precision_score, make_scorer\n",
    "\n",
    "# Separe the test and train data in three parts, testing with different numbers of neighbors\n",
    "prec = make_scorer(precision_score)\n",
    "mod = GridSearchCV(estimator=pipe, param_grid={'model__n_neighbors':[1,2,3,4,5,6,7,8,9,10]}, cv=3, scoring=prec)\n",
    "\n",
    "# Train the Model\n",
    "mod.fit(X,y)\n",
    "\n",
    "# Show the best model accuracy \n",
    "print(f'The best precision is: {mod.best_score_:.4f}')"
   ]
  },
  {
   "cell_type": "code",
   "execution_count": 126,
   "id": "5396fb6b",
   "metadata": {
    "tags": [
     "Output"
    ]
   },
   "outputs": [
    {
     "name": "stdout",
     "output_type": "stream",
     "text": [
      "Diagnosis: Malignant\n"
     ]
    }
   ],
   "source": [
    "# Testing the model\n",
    "\n",
    "new_data = [[17.99, 10.38, 122.8, 1001.0, 0.1184, 0.2776, 0.3001,\n",
    "              0.1471, 0.2419, 0.07871, 1.095, 0.9053, 8.589, 153.4,\n",
    "              0.006399, 0.04904, 0.05373, 0.01587, 0.03003, 0.006193,\n",
    "              25.38, 17.33, 184.6, 2019.0, 0.1622, 0.6656, 0.7119,\n",
    "              0.2654, 0.4601, 0.1189]]\n",
    "\n",
    "feature_names = X.columns\n",
    "new_df = pd.DataFrame(new_data, columns=feature_names)\n",
    "\n",
    "prev = mod.best_estimator_.predict(new_df)\n",
    "\n",
    "if prev[0] == 1:\n",
    "    print('Diagnosis: Malignant')\n",
    "else:\n",
    "    print('Diagnosis: Benign')"
   ]
  }
 ],
 "metadata": {
  "kernelspec": {
   "display_name": "Python 3",
   "language": "python",
   "name": "python3"
  },
  "language_info": {
   "codemirror_mode": {
    "name": "ipython",
    "version": 3
   },
   "file_extension": ".py",
   "mimetype": "text/x-python",
   "name": "python",
   "nbconvert_exporter": "python",
   "pygments_lexer": "ipython3",
   "version": "3.11.9"
  }
 },
 "nbformat": 4,
 "nbformat_minor": 5
}
