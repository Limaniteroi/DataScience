{
 "cells": [
  {
   "cell_type": "markdown",
   "id": "be950556",
   "metadata": {},
   "source": [
    "<h2><b>Netflix - TV Shows and Movies</b></h2>\n",
    "\n",
    "This Jupyter Notebook was created based on a initial study's cicle of Data Science\n",
    "and has as the main objective analyze the 'Netflix - TV Shows and Movies' dataset \n",
    "using Python Pandas and Streamlit."
   ]
  },
  {
   "cell_type": "code",
   "execution_count": null,
   "id": "56e0f16c",
   "metadata": {
    "vscode": {
     "languageId": "plaintext"
    }
   },
   "outputs": [],
   "source": []
  }
 ],
 "metadata": {
  "kernelspec": {
   "display_name": "Python 3",
   "language": "python",
   "name": "python3"
  },
  "language_info": {
   "codemirror_mode": {
    "name": "ipython",
    "version": 3
   },
   "file_extension": ".py",
   "mimetype": "text/x-python",
   "name": "python",
   "nbconvert_exporter": "python",
   "pygments_lexer": "ipython3",
   "version": "3.11.9"
  }
 },
 "nbformat": 4,
 "nbformat_minor": 5
}
