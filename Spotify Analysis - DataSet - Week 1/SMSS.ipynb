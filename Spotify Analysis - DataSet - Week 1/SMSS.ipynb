{
 "cells": [
  {
   "cell_type": "markdown",
   "id": "1ef1f909",
   "metadata": {},
   "source": [
    "<h2><b>Spotify Most Streamed Songs</b></h2>\n",
    "\n",
    "This Jupyter Notebook was created based on a initial study's cicle of Data Science\n",
    "and has as the main objective analyze the 'Spotify Most Streamed Songs' dataset \n",
    "using Python CSV reader/ Pandas and matplotlib library."
   ]
  },
  {
   "cell_type": "code",
   "execution_count": 10,
   "id": "939c3ed4",
   "metadata": {},
   "outputs": [],
   "source": [
    "# Here we will use the pandas library to acess the dataset \n",
    "\n",
    "import pandas as pd\n",
    "\n",
    "reader = pd.read_csv(\"C:/Users/carla/Downloads/Data Science/DataScience/Spotify Analysis - DataSet - Week 1/archive/Spotify Most Streamed Songs.csv\")"
   ]
  },
  {
   "cell_type": "code",
   "execution_count": 11,
   "id": "d281c1da",
   "metadata": {},
   "outputs": [],
   "source": [
    "# Here we will use the csv library to acess the dataset \n",
    "\n",
    "import csv\n",
    "\n",
    "path = \"C:/Users/carla/Downloads/Data Science/DataScience/Spotify Analysis - DataSet - Week 1/archive/Spotify Most Streamed Songs.csv\"\n",
    "\n",
    "with open(path, newline= '') as csvfile:\n",
    "    reader = csv.reader(csvfile)\n",
    "    "
   ]
  },
  {
   "cell_type": "code",
   "execution_count": 12,
   "id": "6ef4a011",
   "metadata": {},
   "outputs": [],
   "source": [
    "# In this step we are going to use csv as the main library and using a DictReader \n",
    "\n",
    "with open(path, newline= '') as csvfile:\n",
    "    reader = csv.DictReader(csvfile)\n",
    "    \n",
    "    fields = []\n",
    "    fields = next(reader) # Take the heads of each column\n",
    "\n",
    "    data_list = []  # Create a dictionary to acess the informations by keys\n",
    "    for row in reader:\n",
    "        data_list.append(row)\n"
   ]
  },
  {
   "cell_type": "markdown",
   "id": "dc89aec4",
   "metadata": {},
   "source": [
    "<h4><b> Basic statistical analysis </b></h4>\n",
    "\n",
    "<lo>\n",
    "<li> Most Streamed song </li>\n",
    "<li> Stream's Medium </li>\n",
    "<li> Stream's Mean </li>\n",
    "<li> Stream's Mode </li>\n",
    "</lo>\n"
   ]
  },
  {
   "cell_type": "code",
   "execution_count": 13,
   "id": "1ff084dd",
   "metadata": {},
   "outputs": [],
   "source": [
    "# Now we can use the dictionary to find the most streamed song, mean, medium and mode \n",
    "\n",
    "count_sum = 0\n",
    "count_best = 0\n",
    "best_name = ''\n",
    "count_medium = 0\n",
    "count_mean = []\n",
    "count_mode = []\n",
    "size = len(data_list)\n",
    "\n",
    "# Let's calculate the total sum, best and medium of streams \n",
    "\n",
    "for v in range(size):\n",
    "        \n",
    "    value = data_list[v]['streams']\n",
    "\n",
    "    text_problem = 'abcdefghijklmnopqrstuvwxyz'\n",
    "    \n",
    "    for i in range(len(text_problem)):\n",
    "        if(text_problem[i] in value):\n",
    "            break\n",
    "        \n",
    "        else:\n",
    "            count_sum += int(value)\n",
    "\n",
    "            count_mean.append(int(value))\n",
    "            count_mode.append(int(value))\n",
    "\n",
    "            if(int(value) > count_best):\n",
    "                count_best = int(value)\n",
    "                best_name = data_list[v]['track_name']\n",
    "            \n",
    "            break\n",
    "\n",
    "count_medium = count_sum/size\n"
   ]
  },
  {
   "cell_type": "code",
   "execution_count": 14,
   "id": "8a25593c",
   "metadata": {
    "tags": [
     "Output"
    ]
   },
   "outputs": [
    {
     "name": "stdout",
     "output_type": "stream",
     "text": [
      "The Most Streamed Song has 3.703.895.074 streams and is called Blinding Lights\n",
      "The Streams Medium is 513.988.914 billions\n"
     ]
    }
   ],
   "source": [
    "print('The Most Streamed Song has',format(int(count_best), ',').replace(',', '.'), 'streams and is called',best_name)\n",
    "print('The Streams Medium is', format(int(count_medium), ',').replace(',', '.'),'billions')"
   ]
  },
  {
   "cell_type": "code",
   "execution_count": 15,
   "id": "fd3449ed",
   "metadata": {},
   "outputs": [],
   "source": [
    "# Calculate mean \n",
    "\n",
    "co_mean = count_mean.copy()\n",
    "co_mean.sort()\n",
    "size = len(co_mean)\n",
    "val = size%2\n",
    "\n",
    "if (val == 1):\n",
    "    c_mean = co_mean[int((size/2))]\n",
    "\n",
    "\n",
    "elif (val == 0):\n",
    "    c_1 = co_mean[(int((size/2)))]\n",
    "    c_2 = co_mean[(int((size/2))+1)]\n",
    "\n",
    "    c_mean = co_mean[int(((c_1 + c_2)/2))]\n"
   ]
  },
  {
   "cell_type": "code",
   "execution_count": 16,
   "id": "9df0e077",
   "metadata": {
    "tags": [
     "Output"
    ]
   },
   "outputs": [
    {
     "name": "stdout",
     "output_type": "stream",
     "text": [
      "The Streams Mean is 290.833.204 billions\n"
     ]
    }
   ],
   "source": [
    "print('The Streams Mean is', format(c_mean, ',').replace(',', '.'),'billions')"
   ]
  },
  {
   "cell_type": "code",
   "execution_count": 17,
   "id": "62f2e5c2",
   "metadata": {},
   "outputs": [],
   "source": [
    "# Calculate mode\n",
    "\n",
    "store = {}\n",
    "\n",
    "for i in range(len(count_mode)):\n",
    "\n",
    "    if (count_mode[i] not in store.keys()):\n",
    "        store[count_mode[i]] = 0\n",
    "\n",
    "    elif (count_mode[i] in store.keys()):\n",
    "        store[count_mode[i]] += 1\n",
    "\n",
    "c_mode = 0\n",
    "for item in store:\n",
    "    if (store[item] > c_mode):\n",
    "        c_mode = store[item]\n"
   ]
  },
  {
   "cell_type": "code",
   "execution_count": 19,
   "id": "6373d3a4",
   "metadata": {},
   "outputs": [
    {
     "name": "stdout",
     "output_type": "stream",
     "text": [
      "Streams Mode doesnt exists\n"
     ]
    }
   ],
   "source": [
    "if (c_mode != 1):\n",
    "    print('The Streams Mode is', format(c_mode, ',').replace(',', '.'),'billion')  \n",
    "else:\n",
    "    print('Streams Mode doesnt exists')"
   ]
  }
 ],
 "metadata": {
  "kernelspec": {
   "display_name": "Python 3",
   "language": "python",
   "name": "python3"
  },
  "language_info": {
   "codemirror_mode": {
    "name": "ipython",
    "version": 3
   },
   "file_extension": ".py",
   "mimetype": "text/x-python",
   "name": "python",
   "nbconvert_exporter": "python",
   "pygments_lexer": "ipython3",
   "version": "3.11.9"
  }
 },
 "nbformat": 4,
 "nbformat_minor": 5
}
