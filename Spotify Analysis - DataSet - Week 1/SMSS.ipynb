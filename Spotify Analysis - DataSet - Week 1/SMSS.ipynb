{
 "cells": [
  {
   "cell_type": "markdown",
   "id": "1ef1f909",
   "metadata": {},
   "source": [
    "<h2><b>Spotify Most Streamed Songs</b></h2>\n",
    "\n",
    "This Jupyter Notebook was created based on a initial study's cicle of Data Science\n",
    "and has as the main objective analyze the 'Spotify Most Streamed Songs' dataset \n",
    "using Python CSV reader/ Pandas, Matplotlib and Pandas library."
   ]
  },
  {
   "cell_type": "code",
   "execution_count": 164,
   "id": "939c3ed4",
   "metadata": {},
   "outputs": [],
   "source": [
    "# Here we will use the pandas library to acess the dataset \n",
    "\n",
    "import pandas as pd\n",
    "\n",
    "reader = pd.read_csv(\"archive/Spotify Most Streamed Songs.csv\")"
   ]
  },
  {
   "cell_type": "code",
   "execution_count": 165,
   "id": "d281c1da",
   "metadata": {},
   "outputs": [],
   "source": [
    "# Here we will use the csv library to acess the dataset \n",
    "\n",
    "import csv\n",
    "\n",
    "path = \"archive/Spotify Most Streamed Songs.csv\"\n",
    "\n",
    "with open(path, newline= '') as csvfile:\n",
    "    reader = csv.reader(csvfile)\n",
    "    "
   ]
  },
  {
   "cell_type": "code",
   "execution_count": 166,
   "id": "6ef4a011",
   "metadata": {},
   "outputs": [],
   "source": [
    "# In this step we are going to use csv as the main library and using a DictReader \n",
    "\n",
    "with open(path, newline= '') as csvfile:\n",
    "    reader = csv.DictReader(csvfile)\n",
    "    \n",
    "    fields = []\n",
    "    fields = next(reader) # Take the heads of each column\n",
    "\n",
    "    data_list = []  # Create a dictionary to acess the informations by keys\n",
    "    for row in reader:\n",
    "        data_list.append(row)\n"
   ]
  },
  {
   "cell_type": "markdown",
   "id": "dc89aec4",
   "metadata": {},
   "source": [
    "<h3><b> Basic statistical analysis </b></h3>\n",
    "\n",
    "<lo>\n",
    "<li> Most Streamed song </li>\n",
    "<li> Stream's Medium </li>\n",
    "<li> Stream's Mean </li>\n",
    "<li> Stream's Mode </li>\n",
    "</lo>\n"
   ]
  },
  {
   "cell_type": "code",
   "execution_count": 167,
   "id": "1ff084dd",
   "metadata": {},
   "outputs": [],
   "source": [
    "# Now we can use the dictionary to find the most streamed song, mean, medium and mode \n",
    "\n",
    "count_sum = 0\n",
    "count_best = 0\n",
    "best_name = ''\n",
    "count_medium = 0\n",
    "count_mean = []\n",
    "count_mode = []\n",
    "size = len(data_list)\n",
    "\n",
    "# Let's calculate the total sum, best and medium of streams \n",
    "\n",
    "for v in range(size):\n",
    "        \n",
    "    value = data_list[v]['streams']\n",
    "\n",
    "    text_problem = 'abcdefghijklmnopqrstuvwxyz'\n",
    "    \n",
    "    for i in range(len(text_problem)):\n",
    "        if(text_problem[i] in value):\n",
    "            break\n",
    "        \n",
    "        else:\n",
    "            count_sum += int(value)\n",
    "\n",
    "            count_mean.append(int(value))\n",
    "            count_mode.append(int(value))\n",
    "\n",
    "            if(int(value) > count_best):\n",
    "                count_best = int(value)\n",
    "                best_name = data_list[v]['track_name']\n",
    "            \n",
    "            break\n",
    "\n",
    "count_medium = count_sum/size\n"
   ]
  },
  {
   "cell_type": "code",
   "execution_count": 168,
   "id": "8a25593c",
   "metadata": {
    "tags": [
     "Output"
    ]
   },
   "outputs": [
    {
     "name": "stdout",
     "output_type": "stream",
     "text": [
      "The Most Streamed Song has 3.703.895.074 streams and is called Blinding Lights\n",
      "The Streams Medium is 513.988.914 billions\n"
     ]
    }
   ],
   "source": [
    "print('The Most Streamed Song has',format(int(count_best), ',').replace(',', '.'), 'streams and is called',best_name)\n",
    "print('The Streams Medium is', format(int(count_medium), ',').replace(',', '.'),'billions')"
   ]
  },
  {
   "cell_type": "code",
   "execution_count": 169,
   "id": "fd3449ed",
   "metadata": {},
   "outputs": [],
   "source": [
    "# Calculate mean \n",
    "\n",
    "co_mean = count_mean.copy()\n",
    "co_mean.sort()\n",
    "size = len(co_mean)\n",
    "val = size%2\n",
    "\n",
    "if (val == 1):\n",
    "    c_mean = co_mean[int((size/2))]\n",
    "\n",
    "\n",
    "elif (val == 0):\n",
    "    c_1 = co_mean[(int((size/2)))]\n",
    "    c_2 = co_mean[(int((size/2))+1)]\n",
    "\n",
    "    c_mean = co_mean[int(((c_1 + c_2)/2))]\n"
   ]
  },
  {
   "cell_type": "code",
   "execution_count": 170,
   "id": "9df0e077",
   "metadata": {
    "tags": [
     "Output"
    ]
   },
   "outputs": [
    {
     "name": "stdout",
     "output_type": "stream",
     "text": [
      "The Streams Mean is 290.833.204 billions\n"
     ]
    }
   ],
   "source": [
    "print('The Streams Mean is', format(c_mean, ',').replace(',', '.'),'billions')"
   ]
  },
  {
   "cell_type": "code",
   "execution_count": 171,
   "id": "62f2e5c2",
   "metadata": {},
   "outputs": [],
   "source": [
    "# Calculate mode\n",
    "\n",
    "store = {}\n",
    "\n",
    "for i in range(len(count_mode)):\n",
    "\n",
    "    if (count_mode[i] not in store.keys()):\n",
    "        store[count_mode[i]] = 1\n",
    "\n",
    "    elif (count_mode[i] in store.keys()):\n",
    "        store[count_mode[i]] += 1\n",
    "\n",
    "c_mode = 1\n",
    "number = 0\n",
    "\n",
    "for item in store:\n",
    "    if (store[item] > c_mode):\n",
    "        c_mode = store[item]\n",
    "        number = item\n"
   ]
  },
  {
   "cell_type": "code",
   "execution_count": 172,
   "id": "6373d3a4",
   "metadata": {},
   "outputs": [
    {
     "name": "stdout",
     "output_type": "stream",
     "text": [
      "The Streams Mode is 156.338.624 billion\n"
     ]
    }
   ],
   "source": [
    "if (c_mode != 1):\n",
    "\n",
    "    # In this case, if there is a different number that has the same c_mode, the algorithm references the first one that appears\n",
    "    print('The Streams Mode is', format(number, ',').replace(',', '.'),'billion')  \n",
    "\n",
    "else:\n",
    "    print('Streams Mode doesnt exists')"
   ]
  },
  {
   "cell_type": "markdown",
   "id": "eaefe16d",
   "metadata": {},
   "source": [
    "<h3><b>Specific statistical questions with MatPlotLib</b></h3>\n",
    "\n",
    "<lo>\n",
    "<li>Who are the top 5 artists that appear in the dataset?</li>\n",
    "<li>What was the top music of each year during the last decade?</li>\n",
    "<li>Is that a relation between bpm, streams and valence?</li>\n",
    "<li>Songs that appear the most in Spotify playlists are related to energy and danceability?</li>\n",
    "</lo>"
   ]
  },
  {
   "cell_type": "code",
   "execution_count": null,
   "id": "9096f2dd",
   "metadata": {},
   "outputs": [],
   "source": [
    "# Importing the library\n",
    "\n",
    "import matplotlib.pyplot as plt"
   ]
  },
  {
   "cell_type": "code",
   "execution_count": null,
   "id": "7fa4b1ea",
   "metadata": {},
   "outputs": [
    {
     "name": "stdout",
     "output_type": "stream",
     "text": [
      "[40, 38, 37, 23, 23]\n"
     ]
    }
   ],
   "source": [
    "# Who are the top 5 artists that appear in the dataset?\n",
    "\n",
    "artists = {}\n",
    "\n",
    "for i in range(len(data_list)):\n",
    "    \n",
    "    if(',' in data_list[i]['artist(s)_name']):\n",
    "        new_data = data_list[i]['artist(s)_name'].split(', ')\n",
    "    \n",
    "    else:\n",
    "        new_data = []\n",
    "        new_data.append(data_list[i]['artist(s)_name'])\n",
    "    \n",
    "  \n",
    "    for i in range(len(new_data)):\n",
    "             \n",
    "        if (new_data[i] not in artists.keys()):\n",
    "            artists[new_data[i]] = 1\n",
    "\n",
    "        elif (new_data[i] in artists.keys()):\n",
    "            artists[new_data[i]] += 1\n",
    "\n",
    "\n",
    "sorted_artist = dict(sorted(artists.items(), key= lambda item: item[1], reverse= True))\n",
    "\n",
    "x = []\n",
    "y = []\n",
    "c = 0\n",
    "\n",
    "for item in sorted_artist:\n",
    "\n",
    "    y.append(sorted_artist[item])\n",
    "    x.append(item)\n",
    "    c+=1 \n",
    "\n",
    "    if(c == 5):\n",
    "       break\n",
    "\n",
    "print(y)\n"
   ]
  },
  {
   "cell_type": "code",
   "execution_count": 230,
   "id": "92b495b1",
   "metadata": {},
   "outputs": [
    {
     "data": {
      "image/png": "[encoded data removed]",
      "text/plain": [
       "<Figure size 800x500 with 1 Axes>"
      ]
     },
     "metadata": {},
     "output_type": "display_data"
    }
   ],
   "source": [
    "# Graphs to visualize\n",
    "\n",
    "fig = plt.figure(figsize=(8,5))\n",
    "ax = fig.subplots()\n",
    "bars = ax.bar(x,y, color=('#9932CC'), edgecolor=('#882EB6'))\n",
    "\n",
    "# Colors to bars \n",
    "\n",
    "color_bar = ['#2B0E39', '#47175E', '#622083', '#7E29A8', '#AC57D6']\n",
    "\n",
    "for i in range(len(color_bar)):\n",
    "    bars[i].set_color(color_bar[i])\n",
    "\n",
    "# Titles and texts\n",
    "\n",
    "fig.suptitle('\\n Top 5 artists most presents on Spotify Most Streamed Songs', fontsize= 14)\n",
    "ax.set_xlabel('Artists Name', fontsize = 12, color=('#47175E'))\n",
    "ax.set_ylabel('Songs Number',fontsize= 12, color=('#47175E'))\n",
    "\n",
    "plt.text('Bad Bunny',40, '40', ha= 'center', va='bottom')\n",
    "plt.text('Taylor Swift',38, '38', ha= 'center', va='bottom')\n",
    "plt.text('The Weeknd',37, '37', ha= 'center', va='bottom')\n",
    "plt.text('SZA',23, '23', ha= 'center', va='bottom')\n",
    "plt.text('Kendrick Lamar',23, '23', ha= 'center', va='bottom')\n",
    "\n",
    "plt.show()"
   ]
  }
 ],
 "metadata": {
  "kernelspec": {
   "display_name": "Python 3",
   "language": "python",
   "name": "python3"
  },
  "language_info": {
   "codemirror_mode": {
    "name": "ipython",
    "version": 3
   },
   "file_extension": ".py",
   "mimetype": "text/x-python",
   "name": "python",
   "nbconvert_exporter": "python",
   "pygments_lexer": "ipython3",
   "version": "3.11.9"
  }
 },
 "nbformat": 4,
 "nbformat_minor": 5
}
