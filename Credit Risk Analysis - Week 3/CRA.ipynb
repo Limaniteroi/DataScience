{
 "cells": [
  {
   "cell_type": "code",
   "execution_count": 38,
   "id": "14d0eac5",
   "metadata": {},
   "outputs": [],
   "source": [
    "import pandas as pd\n",
    "import numpy as np\n",
    "import seaborn as sns\n",
    "import matplotlib.pyplot as plt\n",
    "import plotly.express as px"
   ]
  },
  {
   "cell_type": "code",
   "execution_count": 4,
   "id": "85d67a16",
   "metadata": {},
   "outputs": [],
   "source": [
    "base_credit = pd.read_csv('archive/credit_risk_dataset.csv')"
   ]
  },
  {
   "cell_type": "code",
   "execution_count": null,
   "id": "38c5fae8",
   "metadata": {},
   "outputs": [],
   "source": [
    "five_header = base_credit.head(5)"
   ]
  },
  {
   "cell_type": "code",
   "execution_count": 10,
   "id": "a893a677",
   "metadata": {},
   "outputs": [],
   "source": [
    "five_tail = base_credit.tail(5)"
   ]
  },
  {
   "cell_type": "code",
   "execution_count": 11,
   "id": "f9f83672",
   "metadata": {},
   "outputs": [],
   "source": [
    "descrip = base_credit.describe()"
   ]
  },
  {
   "cell_type": "code",
   "execution_count": null,
   "id": "02ee4b2d",
   "metadata": {},
   "outputs": [],
   "source": [
    "base_credit[base_credit['person_income'] == 69900] "
   ]
  },
  {
   "cell_type": "code",
   "execution_count": null,
   "id": "b6d9adb5",
   "metadata": {},
   "outputs": [],
   "source": [
    "base_credit[base_credit['loan_amnt'] <= 980]"
   ]
  },
  {
   "cell_type": "code",
   "execution_count": 23,
   "id": "3d8b2dbb",
   "metadata": {},
   "outputs": [
    {
     "data": {
      "text/plain": [
       "(array([0, 1]), array([25473,  7108]))"
      ]
     },
     "execution_count": 23,
     "metadata": {},
     "output_type": "execute_result"
    }
   ],
   "source": [
    "np.unique(base_credit['loan_status'], return_counts=True)"
   ]
  },
  {
   "cell_type": "code",
   "execution_count": null,
   "id": "0e2bb554",
   "metadata": {},
   "outputs": [],
   "source": [
    "sns.countplot(x = base_credit['loan_status']);"
   ]
  },
  {
   "cell_type": "code",
   "execution_count": null,
   "id": "1812d835",
   "metadata": {},
   "outputs": [],
   "source": [
    "plt.hist(x = base_credit['person_age']);"
   ]
  },
  {
   "cell_type": "code",
   "execution_count": null,
   "id": "b0ef4ef3",
   "metadata": {},
   "outputs": [],
   "source": [
    "plt.hist(x = base_credit['loan_amnt']);"
   ]
  },
  {
   "cell_type": "code",
   "execution_count": null,
   "id": "e3a6c86b",
   "metadata": {},
   "outputs": [],
   "source": [
    "chart = px.scatter_matrix(base_credit, dimensions= ['person_age','person_income','loan_amnt'], color= 'loan_status')\n",
    "chart.show()"
   ]
  },
  {
   "cell_type": "code",
   "execution_count": null,
   "id": "feb02dc2",
   "metadata": {},
   "outputs": [],
   "source": [
    "base_credit.loc[base_credit['person_age'] < 0]\n",
    "base_credit[base_credit['person_age'] < 0]"
   ]
  },
  {
   "cell_type": "code",
   "execution_count": null,
   "id": "b86044f3",
   "metadata": {},
   "outputs": [],
   "source": [
    "base_credit2 = base_credit.drop(base_credit[base_credit['person_age'] < 0].index)\n",
    "base_credit2"
   ]
  },
  {
   "cell_type": "code",
   "execution_count": null,
   "id": "1ebacd8f",
   "metadata": {},
   "outputs": [],
   "source": [
    "base_credit2.loc[base_credit2['person_age'] < 0]"
   ]
  },
  {
   "cell_type": "code",
   "execution_count": null,
   "id": "2d0fa169",
   "metadata": {},
   "outputs": [],
   "source": [
    "base_credit['person_age'].mean()"
   ]
  },
  {
   "cell_type": "code",
   "execution_count": 60,
   "id": "3f2d96f3",
   "metadata": {},
   "outputs": [
    {
     "data": {
      "text/plain": [
       "np.float64(27.73459992019889)"
      ]
     },
     "execution_count": 60,
     "metadata": {},
     "output_type": "execute_result"
    }
   ],
   "source": [
    "base_credit['person_age'][base_credit['person_age'] > 0].mean()"
   ]
  },
  {
   "cell_type": "code",
   "execution_count": 61,
   "id": "41241881",
   "metadata": {},
   "outputs": [],
   "source": [
    "base_credit.loc[base_credit['person_age'] < 0] = 27.73"
   ]
  },
  {
   "cell_type": "code",
   "execution_count": 62,
   "id": "db7bdc9a",
   "metadata": {},
   "outputs": [
    {
     "data": {
      "text/html": [
       "<div>\n",
       "<style scoped>\n",
       "    .dataframe tbody tr th:only-of-type {\n",
       "        vertical-align: middle;\n",
       "    }\n",
       "\n",
       "    .dataframe tbody tr th {\n",
       "        vertical-align: top;\n",
       "    }\n",
       "\n",
       "    .dataframe thead th {\n",
       "        text-align: right;\n",
       "    }\n",
       "</style>\n",
       "<table border=\"1\" class=\"dataframe\">\n",
       "  <thead>\n",
       "    <tr style=\"text-align: right;\">\n",
       "      <th></th>\n",
       "      <th>person_age</th>\n",
       "      <th>person_income</th>\n",
       "      <th>person_home_ownership</th>\n",
       "      <th>person_emp_length</th>\n",
       "      <th>loan_intent</th>\n",
       "      <th>loan_grade</th>\n",
       "      <th>loan_amnt</th>\n",
       "      <th>loan_int_rate</th>\n",
       "      <th>loan_status</th>\n",
       "      <th>loan_percent_income</th>\n",
       "      <th>cb_person_default_on_file</th>\n",
       "      <th>cb_person_cred_hist_length</th>\n",
       "    </tr>\n",
       "  </thead>\n",
       "  <tbody>\n",
       "    <tr>\n",
       "      <th>0</th>\n",
       "      <td>False</td>\n",
       "      <td>False</td>\n",
       "      <td>False</td>\n",
       "      <td>False</td>\n",
       "      <td>False</td>\n",
       "      <td>False</td>\n",
       "      <td>False</td>\n",
       "      <td>False</td>\n",
       "      <td>False</td>\n",
       "      <td>False</td>\n",
       "      <td>False</td>\n",
       "      <td>False</td>\n",
       "    </tr>\n",
       "    <tr>\n",
       "      <th>1</th>\n",
       "      <td>False</td>\n",
       "      <td>False</td>\n",
       "      <td>False</td>\n",
       "      <td>False</td>\n",
       "      <td>False</td>\n",
       "      <td>False</td>\n",
       "      <td>False</td>\n",
       "      <td>False</td>\n",
       "      <td>False</td>\n",
       "      <td>False</td>\n",
       "      <td>False</td>\n",
       "      <td>False</td>\n",
       "    </tr>\n",
       "    <tr>\n",
       "      <th>2</th>\n",
       "      <td>False</td>\n",
       "      <td>False</td>\n",
       "      <td>False</td>\n",
       "      <td>False</td>\n",
       "      <td>False</td>\n",
       "      <td>False</td>\n",
       "      <td>False</td>\n",
       "      <td>False</td>\n",
       "      <td>False</td>\n",
       "      <td>False</td>\n",
       "      <td>False</td>\n",
       "      <td>False</td>\n",
       "    </tr>\n",
       "    <tr>\n",
       "      <th>3</th>\n",
       "      <td>False</td>\n",
       "      <td>False</td>\n",
       "      <td>False</td>\n",
       "      <td>False</td>\n",
       "      <td>False</td>\n",
       "      <td>False</td>\n",
       "      <td>False</td>\n",
       "      <td>False</td>\n",
       "      <td>False</td>\n",
       "      <td>False</td>\n",
       "      <td>False</td>\n",
       "      <td>False</td>\n",
       "    </tr>\n",
       "    <tr>\n",
       "      <th>4</th>\n",
       "      <td>False</td>\n",
       "      <td>False</td>\n",
       "      <td>False</td>\n",
       "      <td>False</td>\n",
       "      <td>False</td>\n",
       "      <td>False</td>\n",
       "      <td>False</td>\n",
       "      <td>False</td>\n",
       "      <td>False</td>\n",
       "      <td>False</td>\n",
       "      <td>False</td>\n",
       "      <td>False</td>\n",
       "    </tr>\n",
       "    <tr>\n",
       "      <th>...</th>\n",
       "      <td>...</td>\n",
       "      <td>...</td>\n",
       "      <td>...</td>\n",
       "      <td>...</td>\n",
       "      <td>...</td>\n",
       "      <td>...</td>\n",
       "      <td>...</td>\n",
       "      <td>...</td>\n",
       "      <td>...</td>\n",
       "      <td>...</td>\n",
       "      <td>...</td>\n",
       "      <td>...</td>\n",
       "    </tr>\n",
       "    <tr>\n",
       "      <th>32576</th>\n",
       "      <td>False</td>\n",
       "      <td>False</td>\n",
       "      <td>False</td>\n",
       "      <td>False</td>\n",
       "      <td>False</td>\n",
       "      <td>False</td>\n",
       "      <td>False</td>\n",
       "      <td>False</td>\n",
       "      <td>False</td>\n",
       "      <td>False</td>\n",
       "      <td>False</td>\n",
       "      <td>False</td>\n",
       "    </tr>\n",
       "    <tr>\n",
       "      <th>32577</th>\n",
       "      <td>False</td>\n",
       "      <td>False</td>\n",
       "      <td>False</td>\n",
       "      <td>False</td>\n",
       "      <td>False</td>\n",
       "      <td>False</td>\n",
       "      <td>False</td>\n",
       "      <td>False</td>\n",
       "      <td>False</td>\n",
       "      <td>False</td>\n",
       "      <td>False</td>\n",
       "      <td>False</td>\n",
       "    </tr>\n",
       "    <tr>\n",
       "      <th>32578</th>\n",
       "      <td>False</td>\n",
       "      <td>False</td>\n",
       "      <td>False</td>\n",
       "      <td>False</td>\n",
       "      <td>False</td>\n",
       "      <td>False</td>\n",
       "      <td>False</td>\n",
       "      <td>False</td>\n",
       "      <td>False</td>\n",
       "      <td>False</td>\n",
       "      <td>False</td>\n",
       "      <td>False</td>\n",
       "    </tr>\n",
       "    <tr>\n",
       "      <th>32579</th>\n",
       "      <td>False</td>\n",
       "      <td>False</td>\n",
       "      <td>False</td>\n",
       "      <td>False</td>\n",
       "      <td>False</td>\n",
       "      <td>False</td>\n",
       "      <td>False</td>\n",
       "      <td>False</td>\n",
       "      <td>False</td>\n",
       "      <td>False</td>\n",
       "      <td>False</td>\n",
       "      <td>False</td>\n",
       "    </tr>\n",
       "    <tr>\n",
       "      <th>32580</th>\n",
       "      <td>False</td>\n",
       "      <td>False</td>\n",
       "      <td>False</td>\n",
       "      <td>False</td>\n",
       "      <td>False</td>\n",
       "      <td>False</td>\n",
       "      <td>False</td>\n",
       "      <td>False</td>\n",
       "      <td>False</td>\n",
       "      <td>False</td>\n",
       "      <td>False</td>\n",
       "      <td>False</td>\n",
       "    </tr>\n",
       "  </tbody>\n",
       "</table>\n",
       "<p>32581 rows × 12 columns</p>\n",
       "</div>"
      ],
      "text/plain": [
       "       person_age  person_income  person_home_ownership  person_emp_length  \\\n",
       "0           False          False                  False              False   \n",
       "1           False          False                  False              False   \n",
       "2           False          False                  False              False   \n",
       "3           False          False                  False              False   \n",
       "4           False          False                  False              False   \n",
       "...           ...            ...                    ...                ...   \n",
       "32576       False          False                  False              False   \n",
       "32577       False          False                  False              False   \n",
       "32578       False          False                  False              False   \n",
       "32579       False          False                  False              False   \n",
       "32580       False          False                  False              False   \n",
       "\n",
       "       loan_intent  loan_grade  loan_amnt  loan_int_rate  loan_status  \\\n",
       "0            False       False      False          False        False   \n",
       "1            False       False      False          False        False   \n",
       "2            False       False      False          False        False   \n",
       "3            False       False      False          False        False   \n",
       "4            False       False      False          False        False   \n",
       "...            ...         ...        ...            ...          ...   \n",
       "32576        False       False      False          False        False   \n",
       "32577        False       False      False          False        False   \n",
       "32578        False       False      False          False        False   \n",
       "32579        False       False      False          False        False   \n",
       "32580        False       False      False          False        False   \n",
       "\n",
       "       loan_percent_income  cb_person_default_on_file  \\\n",
       "0                    False                      False   \n",
       "1                    False                      False   \n",
       "2                    False                      False   \n",
       "3                    False                      False   \n",
       "4                    False                      False   \n",
       "...                    ...                        ...   \n",
       "32576                False                      False   \n",
       "32577                False                      False   \n",
       "32578                False                      False   \n",
       "32579                False                      False   \n",
       "32580                False                      False   \n",
       "\n",
       "       cb_person_cred_hist_length  \n",
       "0                           False  \n",
       "1                           False  \n",
       "2                           False  \n",
       "3                           False  \n",
       "4                           False  \n",
       "...                           ...  \n",
       "32576                       False  \n",
       "32577                       False  \n",
       "32578                       False  \n",
       "32579                       False  \n",
       "32580                       False  \n",
       "\n",
       "[32581 rows x 12 columns]"
      ]
     },
     "execution_count": 62,
     "metadata": {},
     "output_type": "execute_result"
    }
   ],
   "source": [
    "base_credit.isnull()"
   ]
  }
 ],
 "metadata": {
  "kernelspec": {
   "display_name": "Python 3",
   "language": "python",
   "name": "python3"
  },
  "language_info": {
   "codemirror_mode": {
    "name": "ipython",
    "version": 3
   },
   "file_extension": ".py",
   "mimetype": "text/x-python",
   "name": "python",
   "nbconvert_exporter": "python",
   "pygments_lexer": "ipython3",
   "version": "3.11.9"
  }
 },
 "nbformat": 4,
 "nbformat_minor": 5
}
